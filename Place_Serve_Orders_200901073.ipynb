{
  "nbformat": 4,
  "nbformat_minor": 0,
  "metadata": {
    "colab": {
      "name": "Place_Serve_Orders.ipynb",
      "provenance": [],
      "collapsed_sections": []
    },
    "kernelspec": {
      "name": "python3",
      "display_name": "Python 3"
    },
    "language_info": {
      "name": "python"
    }
  },
  "cells": [
    {
      "cell_type": "code",
      "metadata": {
        "colab": {
          "base_uri": "https://localhost:8080/"
        },
        "id": "G9m1cWkGeptD",
        "outputId": "fad0b964-3d22-4e1f-b6a7-21c7c7988ba6"
      },
      "source": [
        "#Furqan Ali\n",
        "#200901073\n",
        "#BS-CS-01-B\n",
        "import time  # import time module\n",
        "import threading\n",
        "from threading import *\n",
        "from collections import deque\n",
        "\n",
        "class Resturant():\n",
        "    def __init__(self):\n",
        "        self.ord=deque()\n",
        "    def Place_order (self,value):\n",
        "        for i in value:\n",
        "            time.sleep(0.5)\n",
        "            print(\"Placing order: \",i)\n",
        "            self.ord.appendleft(i)\n",
        "\n",
        "    def Serve_order(self):\n",
        "        for i in range(0,5):\n",
        "            time.sleep(2.0)\n",
        "            print(\"Serving order: \", self.ord.pop())\n",
        "\n",
        "if __name__==\"__main__\":\n",
        "    orders = ['pizza','samosa','pasta','biryani','burger']\n",
        "\n",
        "    t = time.time()\n",
        "    F=Resturant()\n",
        "    th1 = threading.Thread(target=F.Place_order, args=(orders,))\n",
        "    th2 = threading.Thread(target=F.Serve_order)\n",
        "    th1.start()\n",
        "    time.sleep(1)\n",
        "    th2.start()\n",
        "    th1.join()\n",
        "    th2.join()\n",
        "    print(\"Total time taking by threads is :\", time.time() - t)\n"
      ],
      "execution_count": null,
      "outputs": [
        {
          "output_type": "stream",
          "name": "stdout",
          "text": [
            "Placing order:  pizza\n",
            "Placing order:  samosa\n",
            "Placing order:  pasta\n",
            "Placing order:  biryani\n",
            "Placing order:  burger\n",
            "Serving order:  pizza\n",
            "Serving order:  samosa\n",
            "Serving order:  pasta\n",
            "Serving order:  biryani\n"
          ]
        }
      ]
    },
    {
      "cell_type": "code",
      "metadata": {
        "id": "BHRDl1DshuN_"
      },
      "source": [
        ""
      ],
      "execution_count": null,
      "outputs": []
    }
  ]
}